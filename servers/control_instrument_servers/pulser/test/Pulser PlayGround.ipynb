{
 "cells": [
  {
   "cell_type": "code",
   "execution_count": 1,
   "metadata": {},
   "outputs": [],
   "source": [
    "import labrad\n",
    "from labrad.units import WithUnit\n",
    "from pydux.lib.control.experiments.ion_experiment import IonExperiment"
   ]
  },
  {
   "cell_type": "code",
   "execution_count": 2,
   "metadata": {},
   "outputs": [],
   "source": [
    "exp1 = IonExperiment()"
   ]
  },
  {
   "cell_type": "code",
   "execution_count": 3,
   "metadata": {},
   "outputs": [
    {
     "name": "stdout",
     "output_type": "stream",
     "text": [
      "Enter username, or blank for the global user (localhost:7682): \n",
      "Enter LabRAD password (localhost:7682): ········\n"
     ]
    }
   ],
   "source": [
    "cxn = labrad.connect()\n",
    "exp1.max_runs_per_readout = 100\n",
    "exp1.pulser_max_readouts = 10\n",
    "exp1.pulser = cxn.pulser\n"
   ]
  },
  {
   "cell_type": "code",
   "execution_count": 4,
   "metadata": {},
   "outputs": [
    {
     "data": {
      "text/plain": [
       "[]"
      ]
     },
     "execution_count": 4,
     "metadata": {},
     "output_type": "execute_result"
    }
   ],
   "source": [
    "exp1.pulser.new_sequence()\n",
    "exp1.pulser.add_ttl_pulse('TTL3', WithUnit(0, 'ms'), WithUnit(1, 'ms'))\n",
    "exp1.pulser.add_ttl_pulse('TTL3', WithUnit(1, 'ms'), WithUnit(1, 'ms'))\n",
    "exp1.pulser.add_ttl_pulse('TTL3', WithUnit(3, 'ms'), WithUnit(1, 'ms'))\n",
    "exp1.pulser.add_ttl_pulse('TTL3', WithUnit(5, 'ms'), WithUnit(1, 'ms'))\n",
    "exp1.pulser.program_sequence()\n",
    "#exp1.repeat_run_with_readouts(1,stop_checked=False)"
   ]
  },
  {
   "cell_type": "code",
   "execution_count": 9,
   "metadata": {},
   "outputs": [],
   "source": [
    "\n",
    "\n",
    "with labrad.connect() as cxn:\n",
    "    duration = WithUnit(10, 's')\n",
    "    pulser = cxn.pulser\n",
    "    pulser.new_sequence()\n",
    "    channels = pulser.get_channels()\n",
    "    channel_names = [chan[0] for chan in channels]\n",
    "    pulser.add_ttl_pulse('TTL3', WithUnit(0, 'ms'), WithUnit(1, 'ms'))\n",
    "    pulser.add_ttl_pulse('TTL3', WithUnit(1, 'ms'), WithUnit(1, 'ms'))\n",
    "    pulser.add_ttl_pulse('TTL3', WithUnit(2, 'ms'), WithUnit(1, 'ms'))\n",
    "    pulser.add_ttl_pulse('TTL3', WithUnit(3, 'ms'), WithUnit(1, 'ms'))\n",
    "    pulser.add_ttl_pulse('TTL3', WithUnit(2, 's'), WithUnit(1, 'ms'))\n",
    "\n",
    "    pulser.program_sequence()\n",
    "    pulser.start_number(2)\n",
    "    pulser.wait_sequence_done()\n",
    "    pulser.stop_sequence()"
   ]
  },
  {
   "cell_type": "code",
   "execution_count": null,
   "metadata": {},
   "outputs": [],
   "source": [
    "\n",
    "-- INSERT --                "
   ]
  }
 ],
 "metadata": {
  "kernelspec": {
   "display_name": "Python 3",
   "language": "python",
   "name": "python3"
  },
  "language_info": {
   "codemirror_mode": {
    "name": "ipython",
    "version": 3
   },
   "file_extension": ".py",
   "mimetype": "text/x-python",
   "name": "python",
   "nbconvert_exporter": "python",
   "pygments_lexer": "ipython3",
   "version": "3.6.10"
  }
 },
 "nbformat": 4,
 "nbformat_minor": 4
}
