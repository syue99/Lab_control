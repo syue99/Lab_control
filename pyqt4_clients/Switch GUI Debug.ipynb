{
 "cells": [
  {
   "cell_type": "code",
   "execution_count": 1,
   "metadata": {},
   "outputs": [],
   "source": [
    "from PyQt4 import QtGui\n",
    "from twisted.internet.defer import inlineCallbacks, returnValue\n",
    "from connection import connection\n",
    "\n",
    "'''\n",
    "The Switch Control GUI lets the user control the TTL channels of the Pulser\n",
    "\n",
    "Version 1.0\n",
    "'''\n",
    "\n",
    "SIGNALID = 378902\n",
    "\n",
    "class switchWidget(QtGui.QFrame):\n",
    "    def __init__(self, reactor, cxn = None, parent=None):\n",
    "        super(switchWidget, self).__init__(parent)\n",
    "        self.initialized = False\n",
    "        self.reactor = reactor\n",
    "        self.cxn = cxn\n",
    "        self.connect()\n",
    "        \n",
    "        \n",
    "    @inlineCallbacks\n",
    "    def connect(self):\n",
    "        if self.cxn is  None:\n",
    "            self.cxn = connection()\n",
    "            yield self.cxn.connect()\n",
    "            from labrad.types import Error\n",
    "            self.Error = Error\n",
    "        self.context = yield self.cxn.context()\n",
    "        try:\n",
    "            displayed_channels = yield self.get_displayed_channels()\n",
    "            \n",
    "            #yield self.initializeGUI(displayed_channels)\n",
    "            #yield self.setupListeners()\n",
    "        except (Exception, e):\n",
    "            print (e)\n",
    "            print ('SWTICH CONTROL: Pulser not available')\n",
    "            self.setDisabled(True)\n",
    "        self.cxn.add_on_connect('Pulser', self.reinitialize)\n",
    "        self.cxn.add_on_disconnect('Pulser', self.disable)\n",
    "    \n",
    "    @inlineCallbacks\n",
    "    def get_displayed_channels(self):\n",
    "        '''\n",
    "        get a list of all available channels from the pulser. only show the ones\n",
    "        listed in the registry. If there is no listing, will display all channels.\n",
    "        '''\n",
    "        server = yield self.cxn.get_server('Pulser')\n",
    "        all_channels = yield server.get_channels(context = self.context)\n",
    "        all_names = [el[0] for el in all_channels]\n",
    "        channels_to_display = yield self.registry_load_displayed(all_names)\n",
    "        if channels_to_display is None:\n",
    "            channels_to_display = all_names\n",
    "        channels = [name for name in channels_to_display if name in all_names]\n",
    "        returnValue(channels)\n",
    "    \n",
    "    @inlineCallbacks\n",
    "    def registry_load_displayed(self, all_names):\n",
    "        reg = yield self.cxn.get_server('Registry')\n",
    "        yield reg.cd(['Clients','Switch Control'], True, context = self.context)\n",
    "        try:\n",
    "            displayed = yield reg.get('display_channels', context = self.context)\n",
    "        except self.Error as e:\n",
    "            if e.code == 21:\n",
    "                #key error\n",
    "                yield reg.set('display_channels', all_names, context = self.context)\n",
    "                displayed = None\n",
    "            else:\n",
    "                raise\n",
    "        returnValue(displayed)\n",
    "    \n",
    "    @inlineCallbacks\n",
    "    def reinitialize(self):\n",
    "        self.setDisabled(False)\n",
    "        server = yield self.cxn.get_server('Pulser')\n",
    "        if self.initialized:\n",
    "            yield server.signal__switch_toggled(SIGNALID, context = self.context)\n",
    "            for name in self.d.keys():\n",
    "                self.setStateNoSignals(name, server)\n",
    "        else:\n",
    "            yield self.initializeGUI()\n",
    "            yield self.setupListeners()\n",
    "    \n",
    "    @inlineCallbacks\n",
    "    def initializeGUI(self, channels):\n",
    "        '''\n",
    "        Lays out the GUI\n",
    "        \n",
    "        @var channels: a list of channels to be displayed.\n",
    "        '''\n",
    "        server = yield self.cxn.get_server('Pulser')\n",
    "        self.d = {}\n",
    "        #set layout\n",
    "        layout = QtGui.QGridLayout()\n",
    "        self.setFrameStyle(QtGui.QFrame.Panel  | QtGui.QFrame.Sunken)\n",
    "        self.setSizePolicy(QtGui.QSizePolicy.MinimumExpanding, QtGui.QSizePolicy.Fixed)\n",
    "        #get switch names and add them to the layout, and connect their function\n",
    "        layout.addWidget(QtGui.QLabel('Switches'),0,0)\n",
    "        for order,name in enumerate(channels):\n",
    "            #setting up physical container\n",
    "            groupBox = QtGui.QGroupBox(name) \n",
    "            groupBoxLayout = QtGui.QVBoxLayout()\n",
    "            buttonOn = QtGui.QPushButton('ON')\n",
    "            buttonOn.setAutoExclusive(True)\n",
    "            buttonOn.setCheckable(True)\n",
    "            buttonOff = QtGui.QPushButton('OFF')\n",
    "            buttonOff.setCheckable(True)\n",
    "            buttonOff.setAutoExclusive(True)\n",
    "            buttonAuto = QtGui.QPushButton('Auto')\n",
    "            buttonAuto.setCheckable(True)\n",
    "            buttonAuto.setAutoExclusive(True)\n",
    "            groupBoxLayout.addWidget(buttonOn)\n",
    "            groupBoxLayout.addWidget(buttonOff)\n",
    "            groupBoxLayout.addWidget(buttonAuto)\n",
    "            groupBox.setLayout(groupBoxLayout)\n",
    "            #adding to dictionary for signal following\n",
    "            self.d[name] = {}\n",
    "            self.d[name]['ON'] = buttonOn\n",
    "            self.d[name]['OFF'] = buttonOff\n",
    "            self.d[name]['AUTO'] = buttonAuto\n",
    "            #setting initial state\n",
    "            yield self.setStateNoSignals(name, server)                   \n",
    "            buttonOn.clicked.connect(self.buttonConnectionManualOn(name, server))\n",
    "            buttonOff.clicked.connect(self.buttonConnectionManualOff(name, server))\n",
    "            buttonAuto.clicked.connect(self.buttonConnectionAuto(name, server))\n",
    "            layout.addWidget(groupBox,0,1 + order)\n",
    "        self.setLayout(layout)\n",
    "        self.initialized = True\n",
    "    \n",
    "    @inlineCallbacks\n",
    "    def setStateNoSignals(self, name, server):\n",
    "        initstate = yield server.get_state(name, context = self.context)\n",
    "        ismanual = initstate[0]\n",
    "        manstate = initstate[1]\n",
    "        if not ismanual:\n",
    "            self.d[name]['AUTO'].blockSignals(True)\n",
    "            self.d[name]['AUTO'].setChecked(True)\n",
    "            self.d[name]['AUTO'].blockSignals(False)\n",
    "        else:\n",
    "            if manstate:\n",
    "                self.d[name]['ON'].blockSignals(True)\n",
    "                self.d[name]['ON'].setChecked(True)\n",
    "                self.d[name]['ON'].blockSignals(False)\n",
    "            else:\n",
    "                self.d[name]['OFF'].blockSignals(True)\n",
    "                self.d[name]['OFF'].setChecked(True)\n",
    "                self.d[name]['OFF'].blockSignals(False)\n",
    "    \n",
    "    def buttonConnectionManualOn(self, name, server):\n",
    "        @inlineCallbacks\n",
    "        def func(state):\n",
    "            yield server.switch_manual(name, True, context = self.context)\n",
    "        return func\n",
    "    \n",
    "    def buttonConnectionManualOff(self, name, server):\n",
    "        @inlineCallbacks\n",
    "        def func(state):\n",
    "            yield server.switch_manual(name, False, context = self.context)\n",
    "        return func\n",
    "    \n",
    "    def buttonConnectionAuto(self, name, server):\n",
    "        @inlineCallbacks\n",
    "        def func(state):\n",
    "            yield server.switch_auto(name, context = self.context)\n",
    "        return func\n",
    "    \n",
    "    @inlineCallbacks\n",
    "    def setupListeners(self):\n",
    "        server = yield self.cxn.get_server('Pulser')\n",
    "        yield server.signal__switch_toggled(SIGNALID, context = self.context)\n",
    "        yield server.addListener(listener = self.followSignal, source = None, ID = SIGNALID, context = self.context)\n",
    "    \n",
    "    def followSignal(self, x, switchName, state):\n",
    "        if switchName not in self.d.keys(): return None\n",
    "        if state == 'Auto':\n",
    "            button = self.d[switchName]['AUTO']\n",
    "        elif state == 'ManualOn':\n",
    "            button = self.d[switchName]['ON']\n",
    "        elif state == 'ManualOff':\n",
    "            button = self.d[switchName]['OFF']\n",
    "        button.setChecked(True)\n",
    "\n",
    "    def closeEvent(self, x):\n",
    "        self.reactor.stop()\n",
    "    \n",
    "    @inlineCallbacks\n",
    "    def disable(self):\n",
    "        self.setDisabled(True)\n",
    "        yield None\n",
    "            "
   ]
  },
  {
   "cell_type": "code",
   "execution_count": 2,
   "metadata": {},
   "outputs": [],
   "source": [
    "\n",
    "a = QtGui.QApplication( [] )\n",
    "#import qt4reactor\n",
    "#qt4reactor.install()\n",
    "from twisted.internet import reactor\n",
    "triggerWidget = switchWidget(reactor)\n"
   ]
  },
  {
   "cell_type": "code",
   "execution_count": 6,
   "metadata": {},
   "outputs": [
    {
     "ename": "ReactorNotRunning",
     "evalue": "Can't stop reactor that isn't running.",
     "output_type": "error",
     "traceback": [
      "\u001b[1;31m---------------------------------------------------------------------------\u001b[0m",
      "\u001b[1;31mReactorNotRunning\u001b[0m                         Traceback (most recent call last)",
      "\u001b[1;32m<ipython-input-1-a2fdb6d12323>\u001b[0m in \u001b[0;36mcloseEvent\u001b[1;34m(self, x)\u001b[0m\n\u001b[0;32m    182\u001b[0m \u001b[1;33m\u001b[0m\u001b[0m\n\u001b[0;32m    183\u001b[0m     \u001b[1;32mdef\u001b[0m \u001b[0mcloseEvent\u001b[0m\u001b[1;33m(\u001b[0m\u001b[0mself\u001b[0m\u001b[1;33m,\u001b[0m \u001b[0mx\u001b[0m\u001b[1;33m)\u001b[0m\u001b[1;33m:\u001b[0m\u001b[1;33m\u001b[0m\u001b[1;33m\u001b[0m\u001b[0m\n\u001b[1;32m--> 184\u001b[1;33m         \u001b[0mself\u001b[0m\u001b[1;33m.\u001b[0m\u001b[0mreactor\u001b[0m\u001b[1;33m.\u001b[0m\u001b[0mstop\u001b[0m\u001b[1;33m(\u001b[0m\u001b[1;33m)\u001b[0m\u001b[1;33m\u001b[0m\u001b[1;33m\u001b[0m\u001b[0m\n\u001b[0m\u001b[0;32m    185\u001b[0m \u001b[1;33m\u001b[0m\u001b[0m\n\u001b[0;32m    186\u001b[0m     \u001b[1;33m@\u001b[0m\u001b[0minlineCallbacks\u001b[0m\u001b[1;33m\u001b[0m\u001b[1;33m\u001b[0m\u001b[0m\n",
      "\u001b[1;32mc:\\users\\funin\\anaconda3\\envs\\code3\\lib\\site-packages\\twisted\\internet\\base.py\u001b[0m in \u001b[0;36mstop\u001b[1;34m(self)\u001b[0m\n\u001b[0;32m    645\u001b[0m         \u001b[1;32mif\u001b[0m \u001b[0mself\u001b[0m\u001b[1;33m.\u001b[0m\u001b[0m_stopped\u001b[0m\u001b[1;33m:\u001b[0m\u001b[1;33m\u001b[0m\u001b[1;33m\u001b[0m\u001b[0m\n\u001b[0;32m    646\u001b[0m             raise error.ReactorNotRunning(\n\u001b[1;32m--> 647\u001b[1;33m                 \"Can't stop reactor that isn't running.\")\n\u001b[0m\u001b[0;32m    648\u001b[0m         \u001b[0mself\u001b[0m\u001b[1;33m.\u001b[0m\u001b[0m_stopped\u001b[0m \u001b[1;33m=\u001b[0m \u001b[1;32mTrue\u001b[0m\u001b[1;33m\u001b[0m\u001b[1;33m\u001b[0m\u001b[0m\n\u001b[0;32m    649\u001b[0m         \u001b[0mself\u001b[0m\u001b[1;33m.\u001b[0m\u001b[0m_justStopped\u001b[0m \u001b[1;33m=\u001b[0m \u001b[1;32mTrue\u001b[0m\u001b[1;33m\u001b[0m\u001b[1;33m\u001b[0m\u001b[0m\n",
      "\u001b[1;31mReactorNotRunning\u001b[0m: Can't stop reactor that isn't running."
     ]
    },
    {
     "data": {
      "text/plain": [
       "0"
      ]
     },
     "execution_count": 6,
     "metadata": {},
     "output_type": "execute_result"
    }
   ],
   "source": [
    "triggerWidget.show()\n",
    "a.exec_()"
   ]
  },
  {
   "cell_type": "code",
   "execution_count": null,
   "metadata": {},
   "outputs": [],
   "source": []
  },
  {
   "cell_type": "code",
   "execution_count": 23,
   "metadata": {},
   "outputs": [
    {
     "data": {
      "text/plain": [
       "<Deferred at 0x2563520c710 current result: <twisted.python.failure.Failure builtins.NameError: name 'e' is not defined>>"
      ]
     },
     "execution_count": 23,
     "metadata": {},
     "output_type": "execute_result"
    }
   ],
   "source": [
    "cxn = connection()\n",
    "cxn.connect()\n",
    "server = cxn.get_server('Pulser')\n",
    "server"
   ]
  },
  {
   "cell_type": "code",
   "execution_count": 21,
   "metadata": {},
   "outputs": [],
   "source": [
    "cxn = cxn.connect()"
   ]
  },
  {
   "cell_type": "code",
   "execution_count": 22,
   "metadata": {},
   "outputs": [
    {
     "ename": "AttributeError",
     "evalue": "'Deferred' object has no attribute 'get_server'",
     "output_type": "error",
     "traceback": [
      "\u001b[1;31m---------------------------------------------------------------------------\u001b[0m",
      "\u001b[1;31mAttributeError\u001b[0m                            Traceback (most recent call last)",
      "\u001b[1;32m<ipython-input-22-f149770a322b>\u001b[0m in \u001b[0;36m<module>\u001b[1;34m\u001b[0m\n\u001b[1;32m----> 1\u001b[1;33m \u001b[0mcxn\u001b[0m\u001b[1;33m.\u001b[0m\u001b[0mget_server\u001b[0m\u001b[1;33m(\u001b[0m\u001b[1;34m'Pulser'\u001b[0m\u001b[1;33m)\u001b[0m\u001b[1;33m\u001b[0m\u001b[1;33m\u001b[0m\u001b[0m\n\u001b[0m",
      "\u001b[1;31mAttributeError\u001b[0m: 'Deferred' object has no attribute 'get_server'"
     ]
    }
   ],
   "source": [
    "cxn.get_server('Pulser')"
   ]
  },
  {
   "cell_type": "code",
   "execution_count": null,
   "metadata": {},
   "outputs": [],
   "source": [
    "\n",
    "from PyQt5.QtWidgets import QApplication, QLabel\n",
    "app = QApplication([])\n",
    "label = QLabel(\"test\")\n",
    "label.show()\n",
    "\n",
    "app.exec_()\n"
   ]
  },
  {
   "cell_type": "code",
   "execution_count": null,
   "metadata": {},
   "outputs": [],
   "source": []
  }
 ],
 "metadata": {
  "kernelspec": {
   "display_name": "Python 3",
   "language": "python",
   "name": "python3"
  },
  "language_info": {
   "codemirror_mode": {
    "name": "ipython",
    "version": 3
   },
   "file_extension": ".py",
   "mimetype": "text/x-python",
   "name": "python",
   "nbconvert_exporter": "python",
   "pygments_lexer": "ipython3",
   "version": "3.6.10"
  }
 },
 "nbformat": 4,
 "nbformat_minor": 4
}
